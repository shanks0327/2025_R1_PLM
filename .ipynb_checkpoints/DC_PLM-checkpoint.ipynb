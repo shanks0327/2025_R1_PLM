{
 "cells": [
  {
   "cell_type": "code",
   "execution_count": 1,
   "id": "0cc7be43",
   "metadata": {},
   "outputs": [],
   "source": [
    "# pip install beautifulsoup4\n"
   ]
  },
  {
   "cell_type": "code",
   "execution_count": 8,
   "id": "6749f59d",
   "metadata": {},
   "outputs": [],
   "source": [
    "import requests\n",
    "from bs4 import BeautifulSoup\n",
    "\n",
    "url = 'http://www.boannews.com/media/t_list.asp'\n",
    "response = requests.get(url)  # GET 메소드를 사용하여 url에 HTTP Request 전송\n",
    "\n",
    "if response.status_code == 200:  # 정상 응답 반환 시 아래 코드블록 실행\n",
    "    soup = BeautifulSoup(response.content, 'html.parser')  # 응답 받은 HTML 파싱\n",
    "    titles = soup.select('div.news_list')  # 파싱한 데이터에서 div 태그 내 news_list 클래스 내 데이터 저장\n",
    "\n",
    "    for title in titles:\n",
    "        print(title.select_one('span.news_txt').get_text())  # news_txt 클래스의 텍스트 데이터 출력\n",
    "\n",
    "else:\n",
    "    print('error')  # 오류 시 메시지 출력\n",
    "\n"
   ]
  },
  {
   "cell_type": "code",
   "execution_count": 10,
   "id": "6538107e",
   "metadata": {},
   "outputs": [
    {
     "name": "stdout",
     "output_type": "stream",
     "text": [
      "error\n"
     ]
    }
   ],
   "source": [
    "url = 'https://www.patientslikeme.com/my_community/search?order=relevance&group_scope=all&search%5Btext%5D=depression'\n",
    "response = requests.get(url)  # GET 메소드를 사용하여 url에 HTTP Request 전송\n",
    "\n",
    "if response.status_code == 200:  # 정상 응답 반환 시 아래 코드블록 실행\n",
    "    soup = BeautifulSoup(response.content, 'html.parser')  # 응답 받은 HTML 파싱\n",
    "    titles = soup.select('div.news_list')  # 파싱한 데이터에서 div 태그 내 news_list 클래스 내 데이터 저장\n",
    "\n",
    "    for title in titles:\n",
    "        print(title.select_one('span.news_txt').get_text())  # news_txt 클래스의 텍스트 데이터 출력\n",
    "\n",
    "else:\n",
    "    print('error')  # 오류 시 메시지 출력\n"
   ]
  },
  {
   "cell_type": "code",
   "execution_count": 3,
   "id": "c8318d80",
   "metadata": {},
   "outputs": [],
   "source": [
    "from bs4 import BeautifulSoup"
   ]
  },
  {
   "cell_type": "code",
   "execution_count": null,
   "id": "12af9a75-3d45-4f50-ac30-9d91e2baa6d7",
   "metadata": {},
   "outputs": [],
   "source": []
  },
  {
   "cell_type": "code",
   "execution_count": null,
   "id": "a0121d02-da17-4c54-a418-1670a74f15ba",
   "metadata": {},
   "outputs": [],
   "source": [
    "# 수정 성공 #"
   ]
  }
 ],
 "metadata": {
  "kernelspec": {
   "display_name": "Python [conda env:base] *",
   "language": "python",
   "name": "conda-base-py"
  },
  "language_info": {
   "codemirror_mode": {
    "name": "ipython",
    "version": 3
   },
   "file_extension": ".py",
   "mimetype": "text/x-python",
   "name": "python",
   "nbconvert_exporter": "python",
   "pygments_lexer": "ipython3",
   "version": "3.12.7"
  }
 },
 "nbformat": 4,
 "nbformat_minor": 5
}
